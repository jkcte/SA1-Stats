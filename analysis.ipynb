{
 "cells": [
  {
   "cell_type": "code",
   "execution_count": 2,
   "metadata": {},
   "outputs": [
    {
     "name": "stdout",
     "output_type": "stream",
     "text": [
      "50\n",
      "50\n",
      "[11, 10, 11, 10, 11, 12, 12, 10, 9, 9, 9, 10, 8, 7, 12, 9, 7, 8, 9, 8, 7, 7, 9, 9, 12, 10, 9, 13, 9, 9, 10, 9, 6, 12, 8, 11, 8, 8, 11, 12, 9, 10, 11, 14, 12, 7, 11, 10, 9, 11]\n",
      "[12, 7, 7, 10, 8, 10, 11, 9, 9, 13, 4, 9, 12, 11, 9, 9, 7, 12, 10, 13, 11, 10, 6, 12, 11, 9, 10, 12, 8, 9, 13, 10, 9, 7, 10, 7, 10, 8, 11, 10, 11, 7, 15, 8, 9, 9, 11, 13, 10, 13]\n"
     ]
    }
   ],
   "source": [
    "import pandas as pd \n",
    "\n",
    "import json\n",
    "\n",
    "# Replace 'your_file.json' with the path to your JSON file\n",
    "with open('dataset.json', 'r') as file:\n",
    "    data = json.load(file)\n",
    "\n",
    "femaleData = data[\"mean_time_using_phone\"]['female']\n",
    "maleData = data[\"mean_time_using_phone\"]['male']\n",
    "\n",
    "print(len(data[\"mean_time_using_phone\"]['male']))\n",
    "print(len(data[\"mean_time_using_phone\"]['female']))\n",
    "print(femaleData)\n",
    "print(maleData)"
   ]
  },
  {
   "cell_type": "markdown",
   "metadata": {},
   "source": [
    "Assumption 1: the data is continuous\n",
    "Assumption 2: the group is independent\n",
    "Assumption 3: there is no relationship between the observations"
   ]
  },
  {
   "cell_type": "code",
   "execution_count": 3,
   "metadata": {},
   "outputs": [
    {
     "name": "stderr",
     "output_type": "stream",
     "text": [
      "C:\\Users\\User\\AppData\\Local\\Temp\\ipykernel_21108\\2633232888.py:5: MatplotlibDeprecationWarning: The 'labels' parameter of boxplot() has been renamed 'tick_labels' since Matplotlib 3.9; support for the old name will be dropped in 3.11.\n",
      "  plt.boxplot([femaleData, maleData], labels=['Female', 'Male'])\n"
     ]
    },
    {
     "data": {
      "image/png": "[encoded data removed]",
      "text/plain": [
       "<Figure size 1000x600 with 1 Axes>"
      ]
     },
     "metadata": {},
     "output_type": "display_data"
    },
    {
     "name": "stdout",
     "output_type": "stream",
     "text": [
      "There is 2 significant outliers in male data\n"
     ]
    }
   ],
   "source": [
    "import matplotlib.pyplot as plt\n",
    "\n",
    "# Create a boxplot for both male and female data\n",
    "plt.figure(figsize=(10, 6))\n",
    "plt.boxplot([femaleData, maleData], labels=['Female', 'Male'])\n",
    "plt.title('Boxplot of Mean Time Using Phone')\n",
    "plt.ylabel('Time (minutes)')\n",
    "plt.show()\n",
    "print(\"There is 2 significant outliers in male data\")"
   ]
  },
  {
   "cell_type": "markdown",
   "metadata": {},
   "source": [
    "It is recommended that the researcher remove the outliers because it brings a negative result to independent t-test"
   ]
  },
  {
   "cell_type": "code",
   "execution_count": 4,
   "metadata": {},
   "outputs": [
    {
     "name": "stdout",
     "output_type": "stream",
     "text": [
      "{4, 6, 7, 8, 9, 10, 11, 12, 13, 15}\n",
      "[12, 7, 7, 10, 8, 10, 11, 9, 9, 13, 9, 12, 11, 9, 9, 7, 12, 10, 13, 11, 10, 6, 12, 11, 9, 10, 12, 8, 9, 13, 10, 9, 7, 10, 7, 10, 8, 11, 10, 11, 7, 8, 9, 9, 11, 13, 10, 13]\n",
      "{6, 7, 8, 9, 10, 11, 12, 13}\n"
     ]
    }
   ],
   "source": [
    "unique_male_values = set(maleData)\n",
    "print(unique_male_values)\n",
    "\n",
    "outliers_male = [4, 15]\n",
    "\n",
    "maleData = [x for x in maleData if x not in outliers_male]\n",
    "print(maleData)\n",
    "\n",
    "unique_male_values = set(maleData)\n",
    "print(unique_male_values)"
   ]
  },
  {
   "cell_type": "code",
   "execution_count": 5,
   "metadata": {},
   "outputs": [
    {
     "name": "stdout",
     "output_type": "stream",
     "text": [
      "Female Data: Statistics=0.9638767847871548, p-value=0.12919719507959687\n",
      "Male Data: Statistics=0.9518706986857468, p-value=0.047487816421818464\n",
      "Female Data: (fail to reject H0)\n",
      "Male Data: (reject H0)\n"
     ]
    }
   ],
   "source": [
    "from scipy.stats import shapiro\n",
    "\n",
    "# Perform Shapiro-Wilk test for normality\n",
    "\n",
    "\n",
    "stat_female, p_female = shapiro(femaleData)\n",
    "stat_male, p_male = shapiro(maleData)\n",
    "\n",
    "print(f\"Female Data: Statistics={stat_female}, p-value={p_female}\")\n",
    "print(f\"Male Data: Statistics={stat_male}, p-value={p_male}\")\n",
    "\n",
    "# Interpret the p-value\n",
    "alpha = 0.05\n",
    "if p_female > alpha:\n",
    "    print('Female Data: (fail to reject H0)')\n",
    "else:\n",
    "    print('Female Data: (reject H0)')\n",
    "\n",
    "if p_male > alpha:\n",
    "    print('Male Data: (fail to reject H0)')\n",
    "else:\n",
    "    print('Male Data: (reject H0)')"
   ]
  },
  {
   "cell_type": "markdown",
   "metadata": {},
   "source": [
    "The problem is that the female data is distributely normal, while the male data is not normally distributed, thus it is more probable to use both to be sure"
   ]
  },
  {
   "cell_type": "code",
   "execution_count": 6,
   "metadata": {},
   "outputs": [
    {
     "name": "stdout",
     "output_type": "stream",
     "text": [
      "Levene's Test: Statistics=0.03422154888156142, p-value=0.8536266117489486\n",
      "Equal variances (fail to reject H0)\n"
     ]
    }
   ],
   "source": [
    "from scipy.stats import levene\n",
    "\n",
    "# Perform Levene's test for equal variances\n",
    "stat, p_value = levene(femaleData, maleData)\n",
    "\n",
    "print(f\"Levene's Test: Statistics={stat}, p-value={p_value}\")\n",
    "\n",
    "# Interpret the p-value\n",
    "if p_value > alpha:\n",
    "    print('Equal variances (fail to reject H0)')\n",
    "else:\n",
    "    print('Unequal variances (reject H0)')"
   ]
  },
  {
   "cell_type": "markdown",
   "metadata": {},
   "source": [
    "and since the levene's test failed to reject the null hypothesis, thus its variance is equal. Therefore, we can proceed in using two-tailed t-test and wilcoxon rank-sum"
   ]
  },
  {
   "cell_type": "code",
   "execution_count": 7,
   "metadata": {},
   "outputs": [
    {
     "name": "stdout",
     "output_type": "stream",
     "text": [
      "Two-sample t-test: t-statistic=-0.36074614928825416, p-value=0.7190818116406611\n",
      "Fail to reject the null hypothesis (H0)\n"
     ]
    }
   ],
   "source": [
    "from scipy.stats import ttest_ind\n",
    "\n",
    "# Perform two-sample independent t-test\n",
    "t_stat, p_value_ttest = ttest_ind(femaleData, maleData, equal_var=True)\n",
    "\n",
    "print(f\"Two-sample t-test: t-statistic={t_stat}, p-value={p_value_ttest}\")\n",
    "\n",
    "# Interpret the p-value\n",
    "if p_value_ttest > alpha:\n",
    "    print('Fail to reject the null hypothesis (H0)')\n",
    "else:\n",
    "    print('Reject the null hypothesis (H0)')"
   ]
  },
  {
   "cell_type": "code",
   "execution_count": 8,
   "metadata": {},
   "outputs": [
    {
     "name": "stdout",
     "output_type": "stream",
     "text": [
      "Wilcoxon rank-sum test: statistic=-0.40152801580306635, p-value=0.6880314158982879\n",
      "Fail to reject the null hypothesis (H0)\n"
     ]
    }
   ],
   "source": [
    "from scipy.stats import ranksums\n",
    "\n",
    "# Perform Wilcoxon rank-sum test\n",
    "stat_wilcoxon, p_value_wilcoxon = ranksums(femaleData, maleData)\n",
    "\n",
    "print(f\"Wilcoxon rank-sum test: statistic={stat_wilcoxon}, p-value={p_value_wilcoxon}\")\n",
    "\n",
    "# Interpret the p-value\n",
    "if p_value_wilcoxon > alpha:\n",
    "    print('Fail to reject the null hypothesis (H0)')\n",
    "else:\n",
    "    print('Reject the null hypothesis (H0)')"
   ]
  },
  {
   "cell_type": "markdown",
   "metadata": {},
   "source": [
    "Since both test stated that the null hypothesis is failed to be rejected, thus there are no significant difference between the hour used of both genders.\n",
    "\n",
    "Based on the analysis and results obtained from the dataset, here are some recommendations for the researchers:\n",
    "\n",
    "1. **Outlier Removal**:\n",
    "    - It is advisable to remove the significant outliers identified in the male data to ensure the accuracy and reliability of the statistical tests. Outliers can skew the results and lead to incorrect conclusions.\n",
    "\n",
    "2. **Normality Test**:\n",
    "    - The Shapiro-Wilk test results indicate that the female data is normally distributed (p > 0.05), while the male data is not normally distributed (p < 0.05). This suggests that non-parametric tests might be more appropriate for the male data.\n",
    "\n",
    "3. **Variance Equality**:\n",
    "    - Levene's test for equal variances shows that the variances between the male and female data are equal (p > 0.05). This allows for the use of parametric tests that assume equal variances.\n",
    "\n",
    "4. **Statistical Tests**:\n",
    "    - Given the normality and variance results, it is recommended to use both parametric and non-parametric tests to compare the male and female data:\n",
    "      - **Two-tailed t-test**: The results indicate that there is no significant difference between the male and female data (p > 0.05).\n",
    "      - **Wilcoxon rank-sum test**: Similarly, this non-parametric test also shows no significant difference between the groups (p > 0.05).\n",
    "\n",
    "5. **Further Analysis**:\n",
    "    - Consider conducting additional analyses to explore other factors that might influence the mean time using the phone. This could include demographic variables, usage patterns, or other relevant metrics.\n",
    "\n",
    "6. **Documentation**:\n",
    "    - Ensure that all assumptions, methods, and results are thoroughly documented. This will help in replicating the study and validating the findings.\n",
    "\n",
    "By following these recommendations, researchers can ensure a robust and comprehensive analysis of the dataset, leading to more reliable and valid conclusions."
   ]
  },
  {
   "cell_type": "code",
   "execution_count": 9,
   "metadata": {},
   "outputs": [
    {
     "name": "stdout",
     "output_type": "stream",
     "text": [
      "count    48.000000\n",
      "mean      9.833333\n",
      "std       1.883109\n",
      "min       6.000000\n",
      "25%       9.000000\n",
      "50%      10.000000\n",
      "75%      11.000000\n",
      "max      13.000000\n",
      "dtype: float64\n"
     ]
    }
   ],
   "source": [
    "# Convert maleData to a pandas Series\n",
    "male_series = pd.Series(maleData)\n",
    "\n",
    "# Get the descriptive summary\n",
    "summary_male = male_series.describe()\n",
    "print(summary_male)"
   ]
  },
  {
   "cell_type": "code",
   "execution_count": 10,
   "metadata": {},
   "outputs": [
    {
     "name": "stdout",
     "output_type": "stream",
     "text": [
      "count    50.000000\n",
      "mean      9.700000\n",
      "std       1.775686\n",
      "min       6.000000\n",
      "25%       9.000000\n",
      "50%       9.500000\n",
      "75%      11.000000\n",
      "max      14.000000\n",
      "dtype: float64\n"
     ]
    }
   ],
   "source": [
    "# Convert maleData to a pandas Series\n",
    "male_series = pd.Series(femaleData)\n",
    "\n",
    "# Get the descriptive summary\n",
    "summary_male = male_series.describe()\n",
    "print(summary_male)"
   ]
  },
  {
   "cell_type": "code",
   "execution_count": 11,
   "metadata": {},
   "outputs": [
    {
     "name": "stdout",
     "output_type": "stream",
     "text": [
      "95% confidence interval for the mean of female data: (np.float64(9.195355586129574), np.float64(10.204644413870424))\n",
      "95% confidence interval for the mean of male data: (np.float64(9.286535494664633), np.float64(10.380131172002034))\n",
      "95% confidence interval for the difference between the means: (np.float64(-0.8678802391191752), np.float64(0.601213572452506))\n"
     ]
    }
   ],
   "source": [
    "from scipy import stats\n",
    "import numpy as np\n",
    "\n",
    "# Calculate the 95% confidence interval for the population mean of each gender category\n",
    "confidence_level = 0.95\n",
    "\n",
    "# Female data\n",
    "female_mean = np.mean(femaleData)\n",
    "female_sem = stats.sem(femaleData)\n",
    "female_ci = stats.t.interval(confidence_level, len(femaleData)-1, loc=female_mean, scale=female_sem)\n",
    "\n",
    "# Male data\n",
    "male_mean = np.mean(maleData)\n",
    "male_sem = stats.sem(maleData)\n",
    "male_ci = stats.t.interval(confidence_level, len(maleData)-1, loc=male_mean, scale=male_sem)\n",
    "\n",
    "print(f\"95% confidence interval for the mean of female data: {female_ci}\")\n",
    "print(f\"95% confidence interval for the mean of male data: {male_ci}\")\n",
    "\n",
    "# Calculate the 95% confidence interval for the difference between the means of the two populations\n",
    "mean_diff = female_mean - male_mean\n",
    "se_diff = np.sqrt(female_sem**2 + male_sem**2)\n",
    "diff_ci = stats.t.interval(confidence_level, len(femaleData) + len(maleData) - 2, loc=mean_diff, scale=se_diff)\n",
    "\n",
    "print(f\"95% confidence interval for the difference between the means: {diff_ci}\")"
   ]
  },
  {
   "cell_type": "markdown",
   "metadata": {},
   "source": [
    "\n",
    "### Discussion on Sample Sizes and Further Testing\n",
    "\n",
    "Based on the analysis and results obtained from the dataset, it is important to consider the implications of sample size and the need for further testing:\n",
    "\n",
    "1. **Sample Size**:\n",
    "    - The current sample sizes for male and female data are 48 and 50, respectively. While these sample sizes are relatively small, they provide a preliminary understanding of the data. However, larger sample sizes are generally recommended to increase the reliability and validity of the results. Larger samples reduce the margin of error and increase the power of statistical tests, making it easier to detect true differences or effects.\n",
    "\n",
    "2. **Statistical Power**:\n",
    "    - With larger sample sizes, the statistical power of the tests increases. This means that the likelihood of correctly rejecting a false null hypothesis (Type II error) is higher. In the current analysis, both the two-tailed t-test and the Wilcoxon rank-sum test failed to reject the null hypothesis, indicating no significant difference between the male and female data. Increasing the sample size could provide more definitive results.\n",
    "\n",
    "3. **Generalizability**:\n",
    "    - Larger sample sizes improve the generalizability of the findings. The current dataset may not be representative of the broader population. By including more participants, the results can be more confidently generalized to the entire population of interest.\n",
    "\n",
    "In conclusion, while the current analysis provides valuable insights, larger sample sizes and further testing are necessary to draw more robust and generalizable conclusions about the time spent on cell phones by different genders."
   ]
  },
  {
   "cell_type": "markdown",
   "metadata": {},
   "source": [
    "\n",
    "## Report on Testing Assumptions for Two Independent Samples t-test and Wilcoxon Rank-Sum Test\n",
    "\n",
    "### 1. Assumptions for Two Independent Samples t-test\n",
    "\n",
    "#### Assumption 1: The data is continuous\n",
    "- Both `femaleData` and `maleData` are lists of continuous numerical values representing the mean time using the phone.\n",
    "\n",
    "#### Assumption 2: The groups are independent\n",
    "- The data for male and female groups are collected independently, with no relationship between the observations in each group.\n",
    "\n",
    "#### Assumption 3: The data is normally distributed\n",
    "- **Shapiro-Wilk Test for Normality**:\n",
    "    - Female Data: Statistics = 0.9639, p-value = 0.1292\n",
    "    - Male Data: Statistics = 0.9519, p-value = 0.0475\n",
    "\n",
    "    Interpretation:\n",
    "    - For female data, p-value > alpha (0.05), we fail to reject the null hypothesis, indicating that the female data is normally distributed.\n",
    "    - For male data, p-value < alpha (0.05), we reject the null hypothesis, indicating that the male data is not normally distributed.\n",
    "\n",
    "#### Assumption 4: Homogeneity of variances\n",
    "- **Levene's Test for Equal Variances**:\n",
    "    - Statistics = 0.0342, p-value = 0.8536\n",
    "\n",
    "    Interpretation:\n",
    "    - p-value > alpha (0.05), we fail to reject the null hypothesis, indicating that the variances between male and female data are equal.\n",
    "\n",
    "### 2. Assumptions for Wilcoxon Rank-Sum Test\n",
    "\n",
    "#### Assumption 1: The data is continuous or ordinal\n",
    "- Both `femaleData` and `maleData` are continuous numerical values.\n",
    "\n",
    "#### Assumption 2: The groups are independent\n",
    "- The data for male and female groups are collected independently, with no relationship between the observations in each group.\n",
    "\n",
    "#### Assumption 3: The distributions of the two groups are similar in shape\n",
    "- Given that the male data is not normally distributed, the Wilcoxon rank-sum test is appropriate as it does not assume normality.\n",
    "\n",
    "### 3. Results of the Tests\n",
    "\n",
    "#### Two Independent Samples t-test\n",
    "- t-statistic = -0.3607, p-value = 0.7191\n",
    "\n",
    "    Interpretation:\n",
    "    - p-value > alpha (0.05), we fail to reject the null hypothesis, indicating no significant difference between the mean time using the phone for male and female groups.\n",
    "\n",
    "#### Wilcoxon Rank-Sum Test\n",
    "- Statistic = -0.4015, p-value = 0.6880\n",
    "\n",
    "    Interpretation:\n",
    "    - p-value > alpha (0.05), we fail to reject the null hypothesis, indicating no significant difference between the distributions of the mean time using the phone for male and female groups.\n",
    "\n",
    "### 4. Confidence Intervals\n",
    "\n",
    "#### 95% Confidence Interval for the Mean\n",
    "- Female Data: (9.1954, 10.2046)\n",
    "- Male Data: (9.2865, 10.3801)\n",
    "\n",
    "#### 95% Confidence Interval for the Difference Between Means\n",
    "- Difference: (-0.8679, 0.6012)\n",
    "\n",
    "### 5. Summary and Recommendations\n",
    "\n",
    "Based on the analysis and results obtained from the dataset, here are some recommendations for the researchers:\n",
    "\n",
    "1. **Outlier Removal**:\n",
    "        - It is advisable to remove the significant outliers identified in the male data to ensure the accuracy and reliability of the statistical tests. Outliers can skew the results and lead to incorrect conclusions.\n",
    "\n",
    "2. **Normality Test**:\n",
    "        - The Shapiro-Wilk test results indicate that the female data is normally distributed (p > 0.05), while the male data is not normally distributed (p < 0.05). This suggests that non-parametric tests might be more appropriate for the male data.\n",
    "\n",
    "3. **Variance Equality**:\n",
    "        - Levene's test for equal variances shows that the variances between the male and female data are equal (p > 0.05). This allows for the use of parametric tests that assume equal variances.\n",
    "\n",
    "4. **Statistical Tests**:\n",
    "        - Given the normality and variance results, it is recommended to use both parametric and non-parametric tests to compare the male and female data:\n",
    "            - **Two-tailed t-test**: The results indicate that there is no significant difference between the male and female data (p > 0.05).\n",
    "            - **Wilcoxon rank-sum test**: Similarly, this non-parametric test also shows no significant difference between the groups (p > 0.05).\n",
    "\n",
    "5. **Further Analysis**:\n",
    "        - Consider conducting additional analyses to explore other factors that might influence the mean time using the phone. This could include demographic variables, usage patterns, or other relevant metrics.\n",
    "\n",
    "6. **Documentation**:\n",
    "        - Ensure that all assumptions, methods, and results are thoroughly documented. This will help in replicating the study and validating the findings.\n",
    "\n",
    "By following these recommendations, researchers can ensure a robust and comprehensive analysis of the dataset, leading to more reliable and valid conclusions.\n"
   ]
  }
 ],
 "metadata": {
  "kernelspec": {
   "display_name": "env",
   "language": "python",
   "name": "python3"
  },
  "language_info": {
   "codemirror_mode": {
    "name": "ipython",
    "version": 3
   },
   "file_extension": ".py",
   "mimetype": "text/x-python",
   "name": "python",
   "nbconvert_exporter": "python",
   "pygments_lexer": "ipython3",
   "version": "3.12.7"
  }
 },
 "nbformat": 4,
 "nbformat_minor": 2
}
